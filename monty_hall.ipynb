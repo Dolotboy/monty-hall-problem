{
 "cells": [
  {
   "cell_type": "code",
   "execution_count": null,
   "metadata": {},
   "outputs": [
    {
     "ename": "",
     "evalue": "",
     "output_type": "error",
     "traceback": [
      "\u001b[1;31mRunning cells with 'Python 3.12.7' requires the ipykernel package.\n",
      "\u001b[1;31mRun the following command to install 'ipykernel' into the Python environment. \n",
      "\u001b[1;31mCommand: 'c:/Users/maxime.lepage/AppData/Local/Microsoft/WindowsApps/python3.12.exe -m pip install ipykernel -U --user --force-reinstall'"
     ]
    }
   ],
   "source": [
    "import random"
   ]
  },
  {
   "cell_type": "code",
   "execution_count": null,
   "metadata": {},
   "outputs": [],
   "source": [
    "def generate_doors():\n",
    "    doors = [0, 0, 1] \n",
    "    random.shuffle(doors)\n",
    "\n",
    "    print(doors)\n",
    "    return doors\n",
    "\n",
    "def participate(doors, keep_door):\n",
    "    initial_choice = random.randint(0, 2)\n",
    "    print(f\"You chose door #{initial_choice + 1}\")\n",
    "\n",
    "    presenter_choice = random.choice([i for i in range(len(doors)) if i != (initial_choice) and doors[i] == 0])\n",
    "    print(f\"Presenter openned the door #{presenter_choice + 1} and it's empty\")\n",
    "\n",
    "    final_result = 0\n",
    "    if keep_door:\n",
    "        final_result = doors[initial_choice] \n",
    "    else:\n",
    "        new_choice = random.choice([i for i in range(len(doors)) if i != (initial_choice) and i != (presenter_choice)])\n",
    "        final_result = doors[new_choice]\n",
    "    \n",
    "    if final_result == 1:\n",
    "        print(\"You won\")\n",
    "    else:\n",
    "        print(\"You lost\")\n",
    "\n",
    "    return final_result\n",
    "\n",
    "import matplotlib.pyplot as plt\n",
    "\n",
    "def visualize_results(results_keep, results_change):\n",
    "    labels = ['Keep', 'Change']\n",
    "    wins = [results_keep.count(1), results_change.count(1)]\n",
    "\n",
    "    plt.bar(labels, wins, color=['blue', 'orange'])\n",
    "    plt.title('Monty Hall Problem Results')\n",
    "    plt.ylabel('Number of Wins')\n",
    "    plt.xlabel('Strategy')\n",
    "    plt.show()"
   ]
  },
  {
   "cell_type": "code",
   "execution_count": null,
   "metadata": {},
   "outputs": [],
   "source": [
    "def main(nbr_of_game=1000, visualize=False):\n",
    "    print(\"Monty Hall Problem\")\n",
    "    results_keep = []\n",
    "    results_change = []\n",
    "    \n",
    "    for i in range(nbr_of_game):\n",
    "        doors = generate_doors()\n",
    "        results_keep.append(participate(doors, True))\n",
    "        results_change.append(participate(doors, False))\n",
    "\n",
    "    print(\"On a total of \"+ str(nbr_of_game) +\" game, by keeping the same door, you won \" + str(results_keep.count(1)) + \" times\")\n",
    "    print(\"On a total of \"+ str(nbr_of_game) +\" game, by changing the door, you won \" + str(results_change.count(1)) + \" times\")\n",
    "\n",
    "    if visualize:\n",
    "        visualize_results(results_keep, results_change)"
   ]
  },
  {
   "cell_type": "code",
   "execution_count": null,
   "metadata": {},
   "outputs": [],
   "source": [
    "main(1000)"
   ]
  },
  {
   "cell_type": "code",
   "execution_count": null,
   "metadata": {},
   "outputs": [],
   "source": []
  }
 ],
 "metadata": {
  "kernelspec": {
   "display_name": "Python 3",
   "language": "python",
   "name": "python3"
  },
  "language_info": {
   "name": "python",
   "version": "3.12.7"
  }
 },
 "nbformat": 4,
 "nbformat_minor": 2
}
